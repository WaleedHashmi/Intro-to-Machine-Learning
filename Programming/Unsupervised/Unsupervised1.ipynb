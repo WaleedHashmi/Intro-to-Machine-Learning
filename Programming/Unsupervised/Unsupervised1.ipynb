{
 "cells": [
  {
   "cell_type": "markdown",
   "metadata": {},
   "source": [
    "## Unsupervised Learning"
   ]
  },
  {
   "cell_type": "markdown",
   "metadata": {},
   "source": [
    "In this exercise session, we will study some of the most popular methods used in unsupervised learning"
   ]
  },
  {
   "cell_type": "markdown",
   "metadata": {},
   "source": [
    "### 1. Principal component analysis "
   ]
  },
  {
   "cell_type": "markdown",
   "metadata": {},
   "source": [
    "In this first exercise, we will start by applying principal component analysis for data compression and/or simply to find the direction of greatest variation in a dataset."
   ]
  },
  {
   "cell_type": "markdown",
   "metadata": {},
   "source": [
    "__1.1. Face compression and recovery.__ As a warm up, use the lines below to load and store the olivetti face dataset. Then, use the methods from the _PCA class_ to learn the average face (first component) as well as the representations of the largest variations in the dataset (subsequent components).\n",
    "\n",
    "\n",
    "To get the representing faces, you will have to use three functions from the class (on top of the initialization of the model through PCA)\n",
    "\n",
    "    \n",
    " - The function _fit_ is used to initialize the PCA model with the data (i.e your face dataset)\n",
    " - The function _fit_transform_ is used to transform a given (set of) image(s) (using the transform that was learned in the call to _fit_) into the lower dimensional/compressed domain.\n",
    " - Finally, the function _inverse_transform_ is used to recover the image from its compressed representation.\n",
    " \n",
    " As an example, consider a set of $N$ images ${I_k}_{k=1}^N$. If you learn a PCA model with 2 component, this model will look for an optimal representation of the set in terms of only two images, $c_1$ and $c_2$. In particular, it  means that _fit_ will learn the two best images $c_1$ and $c_2$ such that the difference $a_1c_1 - a_2c_2 - I_k$ is as small as possible for the set of images $I_k$, $k=1,..., N$. \n",
    " \n",
    "When applying the function _fit_transform_ to a specific image $I_k$, you precisely ask the model to return the coefficients $a_1$ and $a_2$ such that the decomposition $a_1c_1 + a_2c_2$ is the best approximation to $I_k$. The pair $(a_1,a_2)$ hence represents a compression of the image $I_k$, from which this image cn be recovered through the function _inverse_transform_. In other words, we have the chain\n",
    "\n",
    "$I_k$ --> _'fit transform'_ --> $(a_1,a_2)$ --> _'inverse transform'_ --> $a_1c_1 + a_2c_2$\n",
    "\n",
    "Use this idea on the Olivetti face dataset. Vary the number of components. \n",
    "\n",
    "\n",
    " - How many components, do you need to recover a meaningful image?\n",
    " - What does the first few components look like? What do they represent according to you?\n"
   ]
  },
  {
   "cell_type": "code",
   "execution_count": 1,
   "metadata": {},
   "outputs": [],
   "source": [
    "from sklearn.datasets import fetch_olivetti_faces\n",
    "import numpy as np\n",
    "from sklearn.decomposition import PCA\n",
    "\n",
    "\n",
    "dataset = fetch_olivetti_faces()\n",
    "faces = dataset.data\n",
    "\n",
    "n_samples, n_features = faces.shape\n",
    "\n",
    "pca = PCA(n_components=20, svd_solver='randomized',whiten=True)\n",
    "pca.fit(faces)\n",
    "X_pca=pca.transform(faces)"
   ]
  },
  {
   "cell_type": "code",
   "execution_count": 3,
   "metadata": {
    "scrolled": false
   },
   "outputs": [
    {
     "data": {
      "text/plain": [
       "Text(0.5, 1.0, 'Average Face')"
      ]
     },
     "execution_count": 3,
     "metadata": {},
     "output_type": "execute_result"
    },
    {
     "data": {
      "image/png": "[encoded data removed]",
      "text/plain": [
       "<Figure size 216x216 with 1 Axes>"
      ]
     },
     "metadata": {},
     "output_type": "display_data"
    }
   ],
   "source": [
    "import matplotlib.pyplot as plt\n",
    "\n",
    "fig,ax=plt.subplots(1,1,figsize=(3,3))\n",
    "ax.imshow(pca.mean_.reshape((64,64)), cmap=\"gray\")\n",
    "ax.set_xticks([])\n",
    "ax.set_yticks([])\n",
    "ax.set_title('Average Face')"
   ]
  },
  {
   "cell_type": "code",
   "execution_count": 4,
   "metadata": {},
   "outputs": [
    {
     "data": {
      "image/png": "[encoded data removed]",
      "text/plain": [
       "<Figure size 432x288 with 1 Axes>"
      ]
     },
     "metadata": {
      "needs_background": "light"
     },
     "output_type": "display_data"
    }
   ],
   "source": [
    "pca=PCA()\n",
    "pca.fit(faces)\n",
    "\n",
    "plt.figure(1, figsize=(6,4))\n",
    "\n",
    "plt.plot(pca.explained_variance_, linewidth=2)\n",
    " \n",
    "plt.xlabel('Components')\n",
    "plt.ylabel('Explained Variaces')\n",
    "plt.show()"
   ]
  },
  {
   "cell_type": "code",
   "execution_count": 5,
   "metadata": {},
   "outputs": [
    {
     "ename": "AttributeError",
     "evalue": "'numpy.ndarray' object has no attribute 'target'",
     "output_type": "error",
     "traceback": [
      "\u001b[0;31m---------------------------------------------------------------------------\u001b[0m",
      "\u001b[0;31mAttributeError\u001b[0m                            Traceback (most recent call last)",
      "\u001b[0;32m<ipython-input-5-60930adeafc3>\u001b[0m in \u001b[0;36m<module>\u001b[0;34m\u001b[0m\n\u001b[0;32m----> 1\u001b[0;31m \u001b[0mtarget\u001b[0m \u001b[0;34m=\u001b[0m \u001b[0mfaces\u001b[0m\u001b[0;34m.\u001b[0m\u001b[0mtarget\u001b[0m\u001b[0;34m[\u001b[0m\u001b[0;34m[\u001b[0m\u001b[0mi\u001b[0m \u001b[0;32min\u001b[0m \u001b[0mrange\u001b[0m \u001b[0;34m(\u001b[0m\u001b[0mlen\u001b[0m\u001b[0;34m(\u001b[0m\u001b[0mfaces\u001b[0m\u001b[0;34m)\u001b[0m\u001b[0;34m)\u001b[0m\u001b[0;34m]\u001b[0m\u001b[0;34m]\u001b[0m\u001b[0;34m\u001b[0m\u001b[0m\n\u001b[0m\u001b[1;32m      2\u001b[0m \u001b[0;34m\u001b[0m\u001b[0m\n\u001b[1;32m      3\u001b[0m \u001b[0mnumber_of_people\u001b[0m\u001b[0;34m=\u001b[0m\u001b[0;36m10\u001b[0m\u001b[0;34m\u001b[0m\u001b[0m\n\u001b[1;32m      4\u001b[0m \u001b[0mindex_range\u001b[0m\u001b[0;34m=\u001b[0m\u001b[0mnumber_of_people\u001b[0m\u001b[0;34m*\u001b[0m\u001b[0;36m10\u001b[0m\u001b[0;34m\u001b[0m\u001b[0m\n\u001b[1;32m      5\u001b[0m \u001b[0mfig\u001b[0m\u001b[0;34m=\u001b[0m\u001b[0mplt\u001b[0m\u001b[0;34m.\u001b[0m\u001b[0mfigure\u001b[0m\u001b[0;34m(\u001b[0m\u001b[0mfigsize\u001b[0m\u001b[0;34m=\u001b[0m\u001b[0;34m(\u001b[0m\u001b[0;36m10\u001b[0m\u001b[0;34m,\u001b[0m\u001b[0;36m8\u001b[0m\u001b[0;34m)\u001b[0m\u001b[0;34m)\u001b[0m\u001b[0;34m\u001b[0m\u001b[0m\n",
      "\u001b[0;31mAttributeError\u001b[0m: 'numpy.ndarray' object has no attribute 'target'"
     ]
    }
   ],
   "source": [
    "target = faces.target[[i in range (len(faces))]]\n",
    "\n",
    "number_of_people=10\n",
    "index_range=number_of_people*10\n",
    "fig=plt.figure(figsize=(10,8))\n",
    "ax=fig.add_subplot(1,1,1)\n",
    "scatter=ax.scatter(X_pca[:index_range,0],X_pca[:index_range,1], c=target[:index_range],s=10,cmap=plt.get_cmap('jet', number_of_people))\n",
    "\n",
    "ax.set_xlabel(\"First Principle Component\")\n",
    "ax.set_ylabel(\"Second Principle Component\")\n",
    "ax.set_title(\"PCA projection of {} people\".format(number_of_people))\n",
    "\n",
    "fig.colorbar(scatter)"
   ]
  },
  {
   "cell_type": "code",
   "execution_count": 6,
   "metadata": {},
   "outputs": [
    {
     "ename": "TypeError",
     "evalue": "inverse_transform() missing 1 required positional argument: 'X'",
     "output_type": "error",
     "traceback": [
      "\u001b[0;31m---------------------------------------------------------------------------\u001b[0m",
      "\u001b[0;31mTypeError\u001b[0m                                 Traceback (most recent call last)",
      "\u001b[0;32m<ipython-input-6-234192183a59>\u001b[0m in \u001b[0;36m<module>\u001b[0;34m\u001b[0m\n\u001b[1;32m      2\u001b[0m \u001b[0;31m# data_original = np.dot(data_reduced, pca.components_) + pca.mean_ #inverse_transform\u001b[0m\u001b[0;34m\u001b[0m\u001b[0;34m\u001b[0m\u001b[0m\n\u001b[1;32m      3\u001b[0m \u001b[0;34m\u001b[0m\u001b[0m\n\u001b[0;32m----> 4\u001b[0;31m \u001b[0mpca_\u001b[0m \u001b[0;34m=\u001b[0m \u001b[0mpca\u001b[0m\u001b[0;34m.\u001b[0m\u001b[0minverse_transform\u001b[0m\u001b[0;34m(\u001b[0m\u001b[0;34m)\u001b[0m\u001b[0;34m\u001b[0m\u001b[0m\n\u001b[0m\u001b[1;32m      5\u001b[0m \u001b[0;34m\u001b[0m\u001b[0m\n\u001b[1;32m      6\u001b[0m \u001b[0;34m\u001b[0m\u001b[0m\n",
      "\u001b[0;31mTypeError\u001b[0m: inverse_transform() missing 1 required positional argument: 'X'"
     ]
    }
   ],
   "source": [
    "# data_reduced = np.dot(faces - pca.mean_, pca.components_.T) #transform\n",
    "# data_original = np.dot(data_reduced, pca.components_) + pca.mean_ #inverse_transform\n",
    "\n",
    "pca_ = pca.inverse_transform()\n",
    "\n",
    "\n",
    "# fig,ax=plt.subplots(1,1,figsize=(8,8))\n",
    "# ax.imshow(data_original.reshape((1280,1280)), cmap=\"gray\")\n",
    "# ax.set_xticks([])\n",
    "# ax.set_yticks([])\n",
    "# ax.set_title('Average Face after inverse')"
   ]
  },
  {
   "cell_type": "markdown",
   "metadata": {},
   "source": [
    "__1.2 Gaining more intuition : a simpler two sources dataset__\n",
    "\n",
    "In this second exercise, to gain some intuition, we will consider a dataset generated from two sources and compare the vectors returned by principal component analysis and independent component analysis. Consider the points cloud given below. On the transformed dataset, apply respectively a\n",
    "\n",
    " - PCA Analaysis with 2 components\n",
    " - ICA Analysis with 2 components\n",
    " \n",
    " Compare the results.\n"
   ]
  },
  {
   "cell_type": "code",
   "execution_count": 7,
   "metadata": {},
   "outputs": [
    {
     "name": "stdout",
     "output_type": "stream",
     "text": [
      "(20000, 2)\n"
     ]
    },
    {
     "data": {
      "image/png": "[encoded data removed]",
      "text/plain": [
       "<Figure size 432x288 with 1 Axes>"
      ]
     },
     "metadata": {
      "needs_background": "light"
     },
     "output_type": "display_data"
    },
    {
     "data": {
      "image/png": "[encoded data removed]",
      "text/plain": [
       "<Figure size 432x288 with 1 Axes>"
      ]
     },
     "metadata": {
      "needs_background": "light"
     },
     "output_type": "display_data"
    }
   ],
   "source": [
    "import numpy as np\n",
    "import pylab as pl\n",
    "\n",
    "from sklearn.decomposition import PCA, FastICA\n",
    "\n",
    "###############################################################################\n",
    "# Generate sample data\n",
    "rng = np.random.RandomState(42)\n",
    "S = rng.standard_t(1.5, size=(20000, 2))\n",
    "S[:, 0] *= 2.\n",
    "\n",
    "print(S.shape)\n",
    "\n",
    "plt.subplot(211)\n",
    "plt.scatter(S[:,0]/np.std(S),S[:,1]/np.std(S), s=2, marker='o',color='steelblue', alpha=0.5)\n",
    "axes = plt.gca()\n",
    "axes.set_xlim([-10,10])\n",
    "axes.set_ylim([-15,15])\n",
    "plt.show()\n",
    "\n",
    "\n",
    "# Mix data\n",
    "A = np.array([[1, 1], [0, 2]])  # Mixing matrix\n",
    "\n",
    "X = np.dot(S, A.T)  # Generate observations\n",
    "\n",
    "\n",
    "plt.subplot(212)\n",
    "plt.scatter(X[:,0]/np.std(X),X[:,1]/np.std(X), s=2, marker='o',color='steelblue', alpha=0.5)\n",
    "axes = plt.gca()\n",
    "axes.set_xlim([-10,10])\n",
    "axes.set_ylim([-15,15])\n",
    "plt.show()\n",
    "\n",
    "\n",
    "\n"
   ]
  },
  {
   "cell_type": "code",
   "execution_count": 8,
   "metadata": {},
   "outputs": [],
   "source": [
    "# put your code here\n",
    "\n"
   ]
  },
  {
   "cell_type": "markdown",
   "metadata": {},
   "source": [
    "### 2. Independent component Analysis"
   ]
  },
  {
   "cell_type": "markdown",
   "metadata": {},
   "source": [
    "In this exercise, we will use another approach to dimensionality reduction, known as independent component analysis (ICA). ICA is particularly useful in speech or more generally, source separation. In the classic version of this problem, known as _coktail party problem_, one is interested in recovering two distinct signals from a mix of them. Using the FastICA transform, recover the two speeches from the _mixed1.wav_ and _mixed1.wav_ files which are given on github."
   ]
  },
  {
   "cell_type": "code",
   "execution_count": 69,
   "metadata": {},
   "outputs": [
    {
     "name": "stdout",
     "output_type": "stream",
     "text": [
      "[[-1.53194050e-04 -3.16356170e-05]\n",
      " [-1.45199912e-04 -4.27951853e-05]\n",
      " [-1.19255750e-04 -7.99678059e-05]\n",
      " ...\n",
      " [ 7.02216184e-04 -6.56155356e-05]\n",
      " [ 7.14207390e-04 -8.23548880e-05]\n",
      " [ 3.50006010e-04 -1.05130714e-04]]\n"
     ]
    }
   ],
   "source": [
    "import numpy as np                                                             \n",
    "import soundfile as sf                                                      \n",
    "from sklearn.decomposition import FastICA, PCA\n",
    "from scipy import signal\n",
    "from scipy.io import wavfile\n",
    "\n",
    "sample_rate1, samples1 = wavfile.read('mixed1.wav')\n",
    "sample_rate2, samples2 = wavfile.read('mixed2.wav')\n",
    "\n",
    "mixed = np.concatenate((samples1, samples2)).reshape(2, 156239)\n",
    "\n",
    "# print (mixed,samples1,samples2) \n",
    "ica = FastICA(n_components=2)\n",
    "rec = ica.fit_transform(mixed.T)  \n",
    "# print (S_)\n",
    "\n",
    "\n",
    "recovered1 = np.int16(rec[:,0]/np.max(np.abs(rec[:,0]))*32767)\n",
    "wavfile.write ('recovered1.wav',sample_rate1,recovered1)\n",
    "recovered2 = np.int16(rec[:,1]/np.max(np.abs(rec[:,1]))*32767)\n",
    "wavfile.write ('recovered2.wav',sample_rate2,recovered2)\n"
   ]
  },
  {
   "cell_type": "markdown",
   "metadata": {},
   "source": [
    "### 3. Manifold learning "
   ]
  },
  {
   "cell_type": "markdown",
   "metadata": {},
   "source": [
    "In this exercise, we will get familiar with the most popular manifold learning methods (see http://www.augustincosse.com/wp-content/uploads/2018/11/slides10.pdf for a review of the theory) "
   ]
  },
  {
   "cell_type": "markdown",
   "metadata": {},
   "source": [
    "__3.1. Getting some intuition: the moving ball__ Consider the sequence of frames defined below. Those frames are encoded as columns of the data matrix. Use the MDS and then ISOMAP algorithms to get an intuition on the trajectory followed by the white ball."
   ]
  },
  {
   "cell_type": "code",
   "execution_count": 2,
   "metadata": {},
   "outputs": [
    {
     "data": {
      "image/png": "[encoded data removed]",
      "text/plain": [
       "<Figure size 576x216 with 4 Axes>"
      ]
     },
     "metadata": {
      "needs_background": "light"
     },
     "output_type": "display_data"
    }
   ],
   "source": [
    "import numpy as np\n",
    "import matplotlib.pyplot as plt\n",
    "\n",
    "radius = 15\n",
    "\n",
    "radius2 = 5\n",
    "\n",
    "\n",
    "theta = np.linspace(0, 2*np.pi, num=50)\n",
    "\n",
    "\n",
    "simple_movie = np.zeros((64,64,50))\n",
    "\n",
    "\n",
    "for k in range(0,50):\n",
    "     \n",
    "    xpos = np.rint(32 + radius*np.cos(theta[k]))\n",
    "    ypos = np.rint(32 + radius*np.sin(theta[k]))\n",
    "    \n",
    "    for i in range(0,simple_movie.shape[0]):\n",
    "        for j in range(0,simple_movie.shape[1]):\n",
    "    \n",
    "            if (i-xpos)**2 + (j-ypos)**2 < radius2**2:\n",
    "        \n",
    "                simple_movie[i,j,k] = 1\n",
    "\n",
    "plt.figure(1, figsize=(8, 3))\n",
    "plt.subplot(141)  \n",
    "plt.imshow(simple_movie[:,:,1],interpolation='nearest',cmap=plt.cm.gray)\n",
    "plt.axis('off')\n",
    "plt.subplot(142)  \n",
    "plt.imshow(simple_movie[:,:,15],interpolation='nearest',cmap=plt.cm.gray)\n",
    "plt.axis('off')\n",
    "plt.subplot(143)  \n",
    "plt.imshow(simple_movie[:,:,30],interpolation='nearest',cmap=plt.cm.gray)\n",
    "plt.axis('off')\n",
    "plt.subplot(144)  \n",
    "plt.imshow(simple_movie[:,:,45],interpolation='nearest',cmap=plt.cm.gray)\n",
    "plt.axis('off')\n",
    "plt.show()\n",
    "\n",
    "            \n"
   ]
  },
  {
   "cell_type": "code",
   "execution_count": 3,
   "metadata": {},
   "outputs": [],
   "source": [
    "import numpy as np\n",
    "\n",
    "data = np.zeros((simple_movie.shape[0]*simple_movie.shape[1],simple_movie.shape[2]))\n",
    "\n",
    "for k in range(0,50):\n",
    "    \n",
    "    tmp = np.zeros((simple_movie.shape[0],simple_movie.shape[1]))\n",
    "    tmp = simple_movie[:,:,k].T \n",
    "    \n",
    "    data[:,k] = tmp.reshape((simple_movie.shape[0]*simple_movie.shape[1],1)).ravel()\n",
    "\n",
    "    "
   ]
  },
  {
   "cell_type": "code",
   "execution_count": 20,
   "metadata": {},
   "outputs": [],
   "source": [
    "ddfrom sklearn import manifold, datasets\n",
    "\n",
    "# put your code here\n",
    "\n",
    "mds = manifold.MDS(n_components=2)\n",
    "dr = mds.fit_transform(data)\n",
    "\n"
   ]
  },
  {
   "cell_type": "code",
   "execution_count": 24,
   "metadata": {},
   "outputs": [
    {
     "data": {
      "image/png": "[encoded data removed]",
      "text/plain": [
       "<Figure size 432x288 with 1 Axes>"
      ]
     },
     "metadata": {
      "needs_background": "light"
     },
     "output_type": "display_data"
    }
   ],
   "source": [
    "plt.scatter(dr[:,0],dr[:,1])\n",
    "plt.show()"
   ]
  },
  {
   "cell_type": "code",
   "execution_count": 25,
   "metadata": {},
   "outputs": [
    {
     "data": {
      "image/png": "[encoded data removed]",
      "text/plain": [
       "<Figure size 432x288 with 1 Axes>"
      ]
     },
     "metadata": {
      "needs_background": "light"
     },
     "output_type": "display_data"
    }
   ],
   "source": [
    "iso = manifold.Isomap(n_components=2)\n",
    "dr2 = iso.fit_transform(data)\n",
    "\n",
    "plt.scatter(dr2[:,0],dr2[:,1])\n",
    "plt.show()\n"
   ]
  },
  {
   "cell_type": "code",
   "execution_count": null,
   "metadata": {},
   "outputs": [],
   "source": []
  }
 ],
 "metadata": {
  "kernelspec": {
   "display_name": "Python 3",
   "language": "python",
   "name": "python3"
  },
  "language_info": {
   "codemirror_mode": {
    "name": "ipython",
    "version": 3
   },
   "file_extension": ".py",
   "mimetype": "text/x-python",
   "name": "python",
   "nbconvert_exporter": "python",
   "pygments_lexer": "ipython3",
   "version": "3.6.5"
  }
 },
 "nbformat": 4,
 "nbformat_minor": 2
}
